{
  "nbformat": 4,
  "nbformat_minor": 0,
  "metadata": {
    "colab": {
      "provenance": []
    },
    "kernelspec": {
      "name": "python3",
      "display_name": "Python 3"
    },
    "language_info": {
      "name": "python"
    }
  },
  "cells": [
    {
      "cell_type": "code",
      "source": [
        "palindromo = [\n",
        "    01:10,\n",
        "    02:20,\n",
        "    03:30,\n",
        "    04:40,\n",
        "    05:50,\n",
        "    10:01, \n",
        "    11:11,\n",
        "    12:21,\n",
        "    13:31,\n",
        "    14:41,\n",
        "    15:51,\n",
        "    20:02,\n",
        "    21:12,\n",
        "    22:22,\n",
        "    23:32\n",
        "]\n",
        "\n",
        "try:\n",
        "    if palindromo == str(palindromo)[::-1]:\n",
        "        print(\"La hora {} SI son un palindromo\".format(palindromo))\n",
        "    else:\n",
        "        print(\"La hora {} NO son palindromos\".format(palindromo))\n",
        "except ValueError:\n",
        "    print(\"Pusiste una hora invalida\")\n"
      ],
      "metadata": {
        "id": "V_pl47iKhLwQ"
      },
      "execution_count": null,
      "outputs": []
    }
  ]
}