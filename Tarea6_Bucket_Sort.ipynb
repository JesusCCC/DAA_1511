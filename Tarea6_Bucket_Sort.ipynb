{
  "nbformat": 4,
  "nbformat_minor": 0,
  "metadata": {
    "colab": {
      "provenance": []
    },
    "kernelspec": {
      "name": "python3",
      "display_name": "Python 3"
    },
    "language_info": {
      "name": "python"
    }
  },
  "cells": [
    {
      "cell_type": "code",
      "source": [
        "def bucketsort(array):\n",
        "    cub = []\n",
        "\n",
        "    k = 0\n",
        "\n",
        "    for i in range(len(array)):\n",
        "        cub.append([])\n",
        "\n",
        "    for j in array:\n",
        "        index_b = int(j / 15)\n",
        "        cub[index_b].append(j)\n",
        "\n",
        "    for i in range(len(array)):\n",
        "        cub[i] = sorted(cub[i])\n",
        "\n",
        "    for i in range(len(array)):\n",
        "        for j in range(len(cub[i])):\n",
        "            array[k] = cub[i][j]\n",
        "            k += 1\n",
        "    return array\n",
        "\n",
        "\n",
        "array = [ 18, 81, 92, 23, 44, 57, 12, 33, 22, 105]\n",
        "print(\"El resultado de la cubeta es \", bucketsort(array))\n"
      ],
      "metadata": {
        "colab": {
          "base_uri": "https://localhost:8080/"
        },
        "id": "XUYzMpzIhlqD",
        "outputId": "7737b314-29b2-457f-d01c-f471a3d4cd2c"
      },
      "execution_count": 17,
      "outputs": [
        {
          "output_type": "stream",
          "name": "stdout",
          "text": [
            "El resultado de la cubeta es  [12, 18, 22, 23, 33, 44, 57, 81, 92, 105]\n"
          ]
        }
      ]
    }
  ]
}