{
  "nbformat": 4,
  "nbformat_minor": 0,
  "metadata": {
    "colab": {
      "provenance": []
    },
    "kernelspec": {
      "name": "python3",
      "display_name": "Python 3"
    },
    "language_info": {
      "name": "python"
    }
  },
  "cells": [
    {
      "cell_type": "markdown",
      "source": [
        "Elaborar un algoritmo por fuerza bruta que sirva para descifrar el siguiente texto que se encuentra en cifrado césar:"
      ],
      "metadata": {
        "id": "xs4ZKhMlPGWa"
      }
    },
    {
      "cell_type": "code",
      "source": [
        "cifrado = \"SI CUPDMZAPLIL UIKPWUIS ICBWUWTI LM TMFPKW OI LMAMTXMVILW CU XIXMS XZWBIÑWUPKW MU SI OPABWZPI G MU SI NWZTIKPWU LM UCMABZW XIPA. SIA BIZMIA ACABIUBPDIA LM MABI PUABPBCKPWU XCJSPKI, ICBWUWTI G SIPKI AWU SI LWKMUKPI, SI PUDMABPÑIKPWU G SI LPNCAPWU LM SI KCSBCZI. MU MS TCULW IKILMTPKW MA ZMKWUWKPLI KWTW CUI CUPDMZAPLIL LM MFKMSMUKPI. SI CUIT ZMAXWULM IS XZMAMUBM G TPZI MS NCBCZW KWTW MS XZWGMKBW KCSBCZIS TIA PTXWZBIUBM LM TMFPKW. SI CUIT MA CU MAXIKPW LM SPJMZBILMA. MU MSSI AM XZIKBPKI KWBPLPIUITMUBM MS ZMAXMBW, SI BWSMZIUKPI G MS LPISWÑW. SI XSCZISPLIL LM PLMIA G LM XMUAITPMUBW MA IXZMKPILI KWTW APÑUW LM AC ZPYCMHI G UCUKI KWTW NIKBWZ LM LMJPSPLIL.\""
      ],
      "metadata": {
        "id": "HC9MJFmmPfHt"
      },
      "execution_count": 35,
      "outputs": []
    },
    {
      "cell_type": "code",
      "execution_count": 36,
      "metadata": {
        "colab": {
          "base_uri": "https://localhost:8080/"
        },
        "id": "LIVKQCvlPErk",
        "outputId": "ab7ae61e-b3d4-4d0a-f410-59f9a47865a8"
      },
      "outputs": [
        {
          "output_type": "stream",
          "name": "stdout",
          "text": [
            "Cifrado: SI CUPDMZAPLIL UIKPWUIS ICBWUWTI LM TMFPKW OI LMAMTXMVILW CU XIXMS XZWBIÑWUPKW MU SI OPABWZPI G MU SI NWZTIKPWU LM UCMABZW XIPA. SIA BIZMIA ACABIUBPDIA LM MABI PUABPBCKPWU XCJSPKI, ICBWUWTI G SIPKI AWU SI LWKMUKPI, SI PUDMABPÑIKPWU G SI LPNCAPWU LM SI KCSBCZI. MU MS TCULW IKILMTPKW MA ZMKWUWKPLI KWTW CUI CUPDMZAPLIL LM MFKMSMUKPI. SI CUIT ZMAXWULM IS XZMAMUBM G TPZI MS NCBCZW KWTW MS XZWGMKBW KCSBCZIS TIA PTXWZBIUBM LM TMFPKW. SI CUIT MA CU MAXIKPW LM SPJMZBILMA. MU MSSI AM XZIKBPKI KWBPLPIUITMUBM MS ZMAXMBW, SI BWSMZIUKPI G MS LPISWÑW. SI XSCZISPLIL LM PLMIA G LM XMUAITPMUBW MA IXZMKPILI KWTW APÑUW LM AC ZPYCMHI G UCUKI KWTW NIKBWZ LM LMJPSPLIL. \n",
            "Descifrado:  LA UNIVERSIDAD NACIONAL AUTONOMA DE MEXICO HA DESEMPEÑADO UN PAPEL PROTAGONICO EN LA HISTORIA Y EN LA FORMACION DE NUESTRO PAIS. LAS TAREAS SUSTANTIVAS DE ESTA INSTITUCION PUBLICA, AUTONOMA Y LAICA SON LA DOCENCIA, LA INVESTIGACION Y LA DIFUSION DE LA CULTURA. EN EL MUNDO ACADEMICO ES RECONOCIDA COMO UNA UNIVERSIDAD DE EXCELENCIA. LA UNAM RESPONDE AL PRESENTE Y MIRA EL FUTURO COMO EL PROYECTO CULTURAL MAS IMPORTANTE DE MEXICO. LA UNAM ES UN ESPACIO DE LIBERTADES. EN ELLA SE PRACTICA COTIDIANAMENTE EL RESPETO, LA TOLERANCIA Y EL DIALOGO. LA PLURALIDAD DE IDEAS Y DE PENSAMIENTO ES APRECIADA COMO SIGNO DE SU RIQUEZA Y NUNCA COMO FACTOR DE DEBILIDAD.\n"
          ]
        }
      ],
      "source": [
        "def cesar():\n",
        "    alfa = \"ABCDEFGHIJKLMNÑOPQRSTUVWXYZ\"\n",
        "    vueltas = 8\n",
        "    textoc = \" \"\n",
        "\n",
        "    for i in cifrado.upper():\n",
        "        if i in alfa:\n",
        "            posicion = alfa.index(i)\n",
        "            posicion = (posicion - int(vueltas))\n",
        "            posicion % len(alfa)\n",
        "            textoc += alfa[posicion]\n",
        "        else:\n",
        "            textoc += i\n",
        "    if 0 < vueltas <= 27:\n",
        "        print (f\"Cifrado: {cifrado} \")\n",
        "        print (f\"Descifrado: {textoc}\")\n",
        "        \n",
        "cesar()\n",
        "\n"
      ]
    }
  ]
}