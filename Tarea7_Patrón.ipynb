{
  "cells": [
    {
      "cell_type": "markdown",
      "metadata": {
        "id": "fCPeuRmhK0jL"
      },
      "source": [
        "Elaborar un algoritmo por fuerza bruta que pueda encontrar un patrón dentro de una cadena.\n"
      ]
    },
    {
      "cell_type": "code",
      "source": [
        "def busqueda(cadena, patron):\n",
        "    for x in range(len(cadena)):\n",
        "        for i in range(len(patron)):\n",
        "            if patron[i] == entrada[x + i]:\n",
        "                pass\n",
        "            else:\n",
        "                break\n",
        "            if i + 1 == len(patron) and entrada[x + i] == patron[i]:\n",
        "                print(f'El patrón requerido se encontró en la posición: {x} ')"
      ],
      "metadata": {
        "id": "e6KKJEmwTbDv"
      },
      "execution_count": 31,
      "outputs": []
    },
    {
      "cell_type": "code",
      "source": [
        "\n",
        "entrada = '1110010001101110100011001111000110001110001110001110100011010001110001110001110001110001110001110001110001110001110001110001110001110001110001110001110001110001110001110001110001110001110001110001110001110001110001110001110001110001110001110001110001110001101000111110101010100111100011000'\n",
        "patron = '1010101'\n",
        "busqueda(entrada, patron)"
      ],
      "metadata": {
        "id": "OyzKWld_T5ID"
      },
      "execution_count": null,
      "outputs": []
    }
  ],
  "metadata": {
    "colab": {
      "provenance": []
    },
    "kernelspec": {
      "display_name": "Python 3",
      "name": "python3"
    },
    "language_info": {
      "name": "python"
    }
  },
  "nbformat": 4,
  "nbformat_minor": 0
}