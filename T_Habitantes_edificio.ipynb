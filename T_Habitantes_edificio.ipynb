{
  "nbformat": 4,
  "nbformat_minor": 0,
  "metadata": {
    "colab": {
      "name": "T:Habitantes_edificio",
      "provenance": []
    },
    "kernelspec": {
      "name": "python3",
      "display_name": "Python 3"
    },
    "language_info": {
      "name": "python"
    }
  },
  "cells": [
    {
      "cell_type": "markdown",
      "source": [
        "Se requiere controlar el número de habitantes de un edificio con 6 pisos y 4 puertas (A, B, C Y D) en cada piso.\n",
        "\n",
        "- Se deberá realizar un programa que pida al usuario que introduzca el numero de habitantes de cada puerta del edificio. \n",
        "- El programa debe decir la puerta que más habitantes tiene todo el edificio.\n"
      ],
      "metadata": {
        "id": "g5gQJfD6s55f"
      }
    },
    {
      "cell_type": "code",
      "execution_count": null,
      "metadata": {
        "id": "W83WK4ajsadz"
      },
      "outputs": [],
      "source": [
        "a = input(\"introduce el valor de la puerta A \")\n",
        "b = input(\"introduce el valor de la puerta B \")\n",
        "c = input(\"introduce el valor de la puerta C \")\n",
        "d = input(\"introduce el valor de la puerta D \")\n",
        "piso1 = [a, b, c, d]\n",
        "print(f\"El numero mayor es {max(piso1)} \" )\n",
        "pp1 = print(\"Puerta: \", piso1.index(max(piso1)))\n"
      ]
    },
    {
      "cell_type": "code",
      "source": [
        "a = input(\"introduce el valor de la puerta A \")\n",
        "b = input(\"introduce el valor de la puerta B \")\n",
        "c = input(\"introduce el valor de la puerta C \")\n",
        "d = input(\"introduce el valor de la puerta D \")\n",
        "piso2 = [a, b, c, d]\n",
        "print(f\"El numero mayor es {max(piso2)} \" )\n",
        "pp2 = print(\"Puerta: \", piso2.index(max(piso2)))"
      ],
      "metadata": {
        "id": "N23HGv8rFACW"
      },
      "execution_count": null,
      "outputs": []
    },
    {
      "cell_type": "code",
      "source": [
        "a = input(\"introduce el valor de la puerta A \")\n",
        "b = input(\"introduce el valor de la puerta B \")\n",
        "c = input(\"introduce el valor de la puerta C \")\n",
        "d = input(\"introduce el valor de la puerta D \")\n",
        "p3 = [a, b, c, d]\n",
        "print(f\"El numero mayor es {max(p3)} \" )\n",
        "pp3 = print(\"Puerta: \", p3.index(max(p3)))"
      ],
      "metadata": {
        "id": "7Bi3OAHaFKR9"
      },
      "execution_count": null,
      "outputs": []
    },
    {
      "cell_type": "code",
      "source": [
        "a = input(\"introduce el valor de la puerta A \")\n",
        "b = input(\"introduce el valor de la puerta B \")\n",
        "c = input(\"introduce el valor de la puerta C \")\n",
        "d = input(\"introduce el valor de la puerta D \")\n",
        "p4 = [a, b, c, d]\n",
        "print(f\"El numero mayor es {max(p4)} \" )\n",
        "pp4 = print(\"Puerta: \", p3.index(max(p4)))"
      ],
      "metadata": {
        "id": "inMYqF-JFXPd"
      },
      "execution_count": null,
      "outputs": []
    },
    {
      "cell_type": "code",
      "source": [
        "if pp1 > pp2:\n",
        "    if pp1 > pp3:\n",
        "        if pp1 > pp4:\n",
        "        print(\"El Piso1 tiene el mayor numero de habitantes en una habitacion \")\n",
        "    else: \n",
        "        print(\"El Piso4 tiene el mayor numero de habitantes en una habitacion \")\n",
        "elif pp3 > pp4:\n",
        "        print(\"El Piso3 tiene el mayor numero de habitantes en una habitacion \")\n",
        "else: \n",
        "        print(\"El Piso4 tiene el mayor numero de habitantes en una habitacion \")\n",
        "if pp2 > pp3:\n",
        "    pp2 > pp4:\n",
        "    print(\"El Piso2 tiene el mayor numero de habitantes en una habitacion \")"
      ],
      "metadata": {
        "id": "sO9KrYdfIh10"
      },
      "execution_count": null,
      "outputs": []
    }
  ]
}