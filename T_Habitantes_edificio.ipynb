{
  "nbformat": 4,
  "nbformat_minor": 0,
  "metadata": {
    "colab": {
      "name": "T:Habitantes_edificio",
      "provenance": []
    },
    "kernelspec": {
      "name": "python3",
      "display_name": "Python 3"
    },
    "language_info": {
      "name": "python"
    }
  },
  "cells": [
    {
      "cell_type": "markdown",
      "source": [
        "Se requiere controlar el número de habitantes de un edificio con 6 pisos y 4 puertas (A, B, C Y D) en cada piso.\n",
        "\n",
        "- Se deberá realizar un programa que pida al usuario que introduzca el numero de habitantes de cada puerta del edificio. \n",
        "- El programa debe decir la puerta que más habitantes tiene todo el edificio.\n"
      ],
      "metadata": {
        "id": "g5gQJfD6s55f"
      }
    },
    {
      "cell_type": "code",
      "execution_count": null,
      "metadata": {
        "id": "W83WK4ajsadz"
      },
      "outputs": [],
      "source": [
        ""
      ]
    }
  ]
}